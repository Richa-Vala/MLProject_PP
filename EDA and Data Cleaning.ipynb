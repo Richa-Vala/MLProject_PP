{
 "cells": [
  {
   "cell_type": "code",
   "execution_count": null,
   "metadata": {},
   "outputs": [],

   "source": [
    "import pandas as pd\n",
    "import numpy as np\n",
    "import matplotlib.pyplot as plt\n",
    "from sklearn.feature_selection import f_regression\n",
    "from sklearn.linear_model import LinearRegression\n",
    "\n",
    "pd.set_option('display.max_columns', 100)\n",
    "pd.set_option('display.max_rows', 100)\n",
    "%matplotlib inline "
   ]
  },
  {
   "cell_type": "code",
   "execution_count": null,
   "metadata": {},
   "outputs": [],
   "source": [
    "ames = pd.read_csv('./data/Ames_Housing_Price_Data.csv')\n",
    "ames = ames.iloc[:,1:]"
   ]
  },
  {
   "cell_type": "code",
   "execution_count": null,
   "metadata": {},
   "outputs": [],
   "source": [
    "ames.columns = ames.columns.str.lower()\n",
    "ames.mssubclass = ames.mssubclass.astype('object')"
   ]
  },
  {
   "cell_type": "markdown",
   "metadata": {},
   "source": [
    "## Missing Data Cleanning\n",
    "\n",
    "Missingness: it seems that all the missing come from a non-existing feature, therefore I fill in all the numeric features with 0 and categorical features with ‘No [feature]’ or similar pattern. \n",
    "\n",
    "### Remarks:\n",
    "\n",
    "*mansvnrtype / masvnrarea: missing because the house is solid brick? In that case, the price might be different.\n",
    "\n",
    "*garage: row 433, 531 have garage type but with many missing values in garage specs\n",
    "\n",
    "*‘Electrical’ : 1 missing data\n",
    "\n",
    "*When 'Garagetype' is ‘no garage’, the value of 'garageyrblt', 'garagefinish', 'garagecars', 'garagearea', 'garagequal', 'garagecond' will have multicollinearity since they will all be coded 0 or ‘No Garage’. For ML purposes, the overall model will include ‘garagetype’ or 'garagearea' only, if significant, the data set will be split in with/without garage for further analysis.\n",
    "\n",
    "*The same with the basement features group."
   ]
  },
  {
   "cell_type": "code",
   "execution_count": null,
   "metadata": {},
   "outputs": [],
   "source": [
    "ames.loc[ames.lotfrontage.isnull(),'lotfrontage'] = 0\n",
    "ames.loc[ames.alley.isnull(),'alley'] = 'No Alley'\n",
    "ames.loc[ames.masvnrtype.isnull(),'masvnrtype'] = 'Missing'\n",
    "ames.loc[ames.masvnrarea.isnull(),'masvnrarea'] = 0\n",
    "ames.loc[ames.bsmtqual.isnull(),'bsmtqual'] = 'No Bsmt'\n",
    "ames.loc[ames.bsmtcond.isnull(),'bsmtcond'] = 'No Bsmt'\n",
    "ames.loc[ames.bsmtexposure.isnull(),'bsmtexposure'] = 'No Bsmt'\n",
    "ames.loc[ames.bsmtfintype1.isnull(),'bsmtfintype1'] = 'No Bsmt'\n",
    "ames.loc[ames.bsmtfinsf1.isnull(),'bsmtfinsf1'] = 0\n",
    "ames.loc[ames.bsmtfintype2.isnull(),'bsmtfintype2'] = 'No Bsmt'\n",
    "ames.loc[ames.bsmtfinsf2.isnull(),'bsmtfinsf2'] = 0\n",
    "ames.loc[ames.bsmtunfsf.isnull(),'bsmtunfsf'] = 0\n",
    "ames.loc[ames.totalbsmtsf.isnull(),'totalbsmtsf'] = 0\n",
    "ames.loc[ames.bsmtfullbath.isnull(),'bsmtfullbath'] = 0\n",
    "ames.loc[ames.bsmthalfbath.isnull(),'bsmthalfbath'] = 0\n",
    "ames.loc[ames.fireplaces == 0,'fireplacequ'] = 'No Fireplace'\n",
    "ames.loc[ames.garagetype.isnull(),'garagetype'] = 'No Garage'\n",
    "ames.loc[ames.garagetype == 'No Garage','garageyrblt'] = 0\n",
    "ames.loc[ames.garagetype == 'No Garage','garagefinish'] = 'No Garage'\n",
    "ames.loc[ames.garagetype == 'No Garage','garagecars'] = 0\n",
    "ames.loc[ames.garagetype == 'No Garage','garagearea'] = 0\n",
    "ames.loc[ames.garagetype == 'No Garage','garagequal'] = 'No Garage'\n",
    "ames.loc[ames.garagetype == 'No Garage','garagecond'] = 'No Garage'\n",
    "ames.loc[ames.poolarea == 0,'poolqc'] = 'No Pool'\n",
    "ames.loc[ames.fence.isnull(),'fence'] = 'No Fence'\n",
    "ames.loc[ames.miscfeature.isnull(),'miscfeature'] = 'None'"
   ]
  },
  {
   "cell_type": "code",
   "execution_count": null,
   "metadata": {},
   "outputs": [],
   "source": [
    "ames.loc[ames.garageyrblt.isnull(),]"
   ]
  },
  {
   "cell_type": "code",
   "execution_count": null,
   "metadata": {},
   "outputs": [],
   "source": [
    "ames.loc[ames.electrical.isnull(),]"
   ]
  },
  {
   "cell_type": "markdown",
   "metadata": {},
   "source": [
    "After the major data cleaning, 3 rows are still left with missing values. After checking the 3 records, the missing information cannot be imputed easily with existing information, so we decide to remove these 3 rows. 2577 rows of data will be included in the analysis."
   ]
  },
  {
   "cell_type": "code",
   "execution_count": null,
   "metadata": {},
   "outputs": [],
   "source": [
    "ames2 = ames.dropna(axis=0).copy()\n",
    "ames2.shape"
   ]
  },
  {
   "cell_type": "markdown",
   "metadata": {},
   "source": [
    "## Adding Features\n",
    "\n",
    "- 'price_sqft' = 'saleprice' / 'grlivarea'\n",
    " \n",
    "- 'house_age'  = 'yrsold' - 'yearbuilt'\n",
    " \n",
    "- 'reno_age' = 'yrsold' - 'yearremodadd'\n",
    " \n",
    "- bathroom # above ground: 'tbath_abvgr' = 'fullbath' + 'halfbath'*0.5\n",
    "\n",
    "- bathroom # in basement: 'tbath_bsmt' = 'bsmtfullbath' + 'bsmthalfbath'*0.5\n",
    " \n",
    "- bedroom/bathroom ratio (above ground): 'bbratio_abvgr' = 'bedroomabvgr' / 'tbath_abvgr'\n",
    "  \n",
    "There are two houses only have bathroom in basement, so the 'bbratio_abvgr' will be uncalculatble. \n",
    "\n",
    "To make sense of the date, impute the missing data with 10.\n",
    "\n",
    "### Be aware of multicollinearity between the introduced variables"
   ]
  },
  {
   "cell_type": "code",
   "execution_count": null,
   "metadata": {},
   "outputs": [],
   "source": [
    "ames2['price_sqft'] = ames2['saleprice'] / ames2['grlivarea']\n",
    "ames2['house_age'] = ames2['yrsold'] - ames2['yearbuilt']\n",
    "ames2['reno_age'] = ames2['yrsold'] - ames2['yearremodadd']\n",
    "ames2.loc[ames2['reno_age']<0,'reno_age'] = 0\n",
    "ames2['tbath_abvgr'] = ames2['fullbath'] + ames2['halfbath']*0.5\n",
    "ames2['tbath_bsmt'] = ames2['bsmtfullbath'] + ames2['bsmthalfbath']*0.5\n",
    "ames2['tbath'] = ames2['tbath_abvgr'] + ames2['tbath_bsmt']\n",
    "ames2['bbratio_abvgr'] = ames['bedroomabvgr']/ames2['tbath_abvgr']\n",
    "ames2.loc[ames2['bbratio_abvgr'].isnull(),'bbratio_abvgr'] = 10\n",
    "ames2.loc[ames2['bbratio_abvgr']>10,'bbratio_abvgr'] = 10"
   ]
  },
  {
   "cell_type": "markdown",
   "metadata": {},
   "source": [
    "## Preparing data set"
   ]
  },
  {
   "cell_type": "markdown",
   "metadata": {},
   "source": [
    "### Categorical Variables\n",
    "\n",
    "Creating a list of all categorial variable for future uses.\n",
    "\n",
    "Check the Boxplots for all categorical variable against price per sqft"
   ]
  },
  {
   "cell_type": "code",
   "execution_count": null,
   "metadata": {},
   "outputs": [],
   "source": [
    "factor_col = []\n",
    "for col in ames2.columns:\n",
    "    if ames2[col].dtype == 'O':\n",
    "        factor_col.append(col)"
   ]
  },
  {
   "cell_type": "code",
   "execution_count": null,
   "metadata": {},
   "outputs": [],
   "source": [
    "for col in factor_col:\n",
    "    print(ames2[['price_sqft',col]].boxplot(by = col))"
   ]
  },
  {
   "cell_type": "code",
   "execution_count": null,
   "metadata": {},
   "outputs": [],
   "source": [
    "for col in factor_col:\n",
    "    print(ames2[col].value_counts())"
   ]
  },
  {
   "cell_type": "markdown",
   "metadata": {},
   "source": [
    "By looking at the boxplots, it seems 'street', 'lotshape', 'loconfig', 'landslope', 'heatingqc', and 'fence' don't have strong influence on the price/sqft. May consider eliminating these features in the next steps.\n",
    "\n",
    "Another observation is that many of the features have unbalanced values. This should be taken into consideration if any features are to be included in the model."
   ]
  },
  {
   "cell_type": "markdown",
   "metadata": {},
   "source": [
    "### Standardize Numeric Variables\n",
    "\n",
    "Standardize all the numeric variables for better comparebility for the beta coefiicients."
   ]
  },
  {
   "cell_type": "code",
   "execution_count": null,
   "metadata": {},
   "outputs": [],
   "source": [
    "ames3 = ames2.copy()\n",
    "for col in ames3.columns.tolist():\n",
    "    if ames3[col].dtype != 'O':\n",
    "        ames3[col] = (ames3[col] - ames3[col].mean()) / ames3[col].std()"
   ]
  },
  {
   "cell_type": "code",
   "execution_count": null,
   "metadata": {},
   "outputs": [],
   "source": [
    "ames_numeric = ames2[ames2.columns[~ames2.columns.isin(factor_col)].tolist()]"
   ]
  },
  {
   "cell_type": "markdown",
   "metadata": {},
   "source": [
    "### Dummify variables"
   ]
  },
  {
   "cell_type": "code",
   "execution_count": null,
   "metadata": {},
   "outputs": [],
   "source": [
    "for col in factor_col:\n",
    "    col_df = dummy_dict[col].drop(col+'_'+str(ames2[col].mode()[0]),axis=1)\n",
    "    ames3 = pd.concat([ames3, col_df], join='inner',axis=1)\n",
    "    ames3.drop(col, axis=1, inplace=True)\n",
    "    \n",
    "ames3.head()"
   ]
  },
  {
   "cell_type": "markdown",
   "metadata": {},
   "source": [
    "### Create Features Series and Target DataFrame"
   ]
  },
  {
   "cell_type": "code",
   "execution_count": null,
   "metadata": {},
   "outputs": [],
   "source": [
    "target = ames3['price_sqft']\n",
    "full_features = ames3[['grlivarea','lotfrontage','lotarea','overallqual','overallcond','yearbuilt',\n",
    "                       'yearremodadd','masvnrarea','bsmtfinsf1','bsmtfinsf2','bsmtunfsf','totalbsmtsf',\n",
    "                       '1stflrsf','2ndflrsf','lowqualfinsf','bsmtfullbath','bsmthalfbath','fullbath',\n",
    "                       'halfbath','bedroomabvgr','kitchenabvgr','totrmsabvgrd','fireplaces','garageyrblt',\n",
    "                       'garagecars','garagearea','wooddecksf','openporchsf','enclosedporch','3ssnporch',\n",
    "                       'screenporch','poolarea','miscval','mosold','yrsold','house_age',\n",
    "                       'reno_age','tbath_abvgr','tbath_bsmt','tbath','bbratio_abvgr','mssubclass_30',\n",
    "                       'mssubclass_40','mssubclass_45','mssubclass_50','mssubclass_60','mssubclass_70',\n",
    "                       'mssubclass_75','mssubclass_80','mssubclass_85','mssubclass_90','mssubclass_120',\n",
    "                       'mssubclass_150','mssubclass_160','mssubclass_180','mssubclass_190','mszoning_A (agr)',\n",
    "                       'mszoning_C (all)','mszoning_FV','mszoning_I (all)','mszoning_RH','mszoning_RM',\n",
    "                       'street_Grvl','alley_Grvl','alley_Pave','lotshape_IR1','lotshape_IR2','lotshape_IR3',\n",
    "                       'landcontour_Bnk','landcontour_HLS','landcontour_Low','utilities_NoSewr',\n",
    "                       'lotconfig_Corner','lotconfig_CulDSac','lotconfig_FR2','lotconfig_FR3','landslope_Mod',\n",
    "                       'landslope_Sev','neighborhood_Blmngtn','neighborhood_Blueste','neighborhood_BrDale',\n",
    "                       'neighborhood_BrkSide','neighborhood_ClearCr','neighborhood_CollgCr','neighborhood_Crawfor',\n",
    "                       'neighborhood_Edwards','neighborhood_Gilbert','neighborhood_Greens','neighborhood_GrnHill',\n",
    "                       'neighborhood_IDOTRR','neighborhood_Landmrk','neighborhood_MeadowV','neighborhood_Mitchel',\n",
    "                       'neighborhood_NPkVill','neighborhood_NWAmes','neighborhood_NoRidge','neighborhood_NridgHt',\n",
    "                       'neighborhood_OldTown','neighborhood_SWISU','neighborhood_Sawyer','neighborhood_SawyerW',\n",
    "                       'neighborhood_Somerst','neighborhood_StoneBr','neighborhood_Timber','neighborhood_Veenker',\n",
    "                       'condition1_Artery','condition1_Feedr','condition1_PosA','condition1_PosN','condition1_RRAe',\n",
    "                       'condition1_RRAn','condition1_RRNe','condition1_RRNn','condition2_Artery','condition2_Feedr',\n",
    "                       'condition2_PosA','condition2_PosN','condition2_RRAe','condition2_RRAn','condition2_RRNn',\n",
    "                       'bldgtype_2fmCon','bldgtype_Duplex','bldgtype_Twnhs','bldgtype_TwnhsE','housestyle_1.5Fin',\n",
    "                       'housestyle_1.5Unf','housestyle_2.5Fin','housestyle_2.5Unf','housestyle_2Story',\n",
    "                       'housestyle_SFoyer','housestyle_SLvl','roofstyle_Flat','roofstyle_Gambrel','roofstyle_Hip',\n",
    "                       'roofstyle_Mansard','roofstyle_Shed','roofmatl_Membran','roofmatl_Metal','roofmatl_Roll',\n",
    "                       'roofmatl_Tar&Grv','roofmatl_WdShake','roofmatl_WdShngl','exterior1st_AsbShng',\n",
    "                       'exterior1st_AsphShn','exterior1st_BrkComm','exterior1st_BrkFace','exterior1st_CBlock',\n",
    "                       'exterior1st_CemntBd','exterior1st_HdBoard','exterior1st_ImStucc','exterior1st_MetalSd',\n",
    "                       'exterior1st_Plywood','exterior1st_PreCast','exterior1st_Stucco','exterior1st_Wd Sdng',\n",
    "                       'exterior1st_WdShing','exterior2nd_AsbShng','exterior2nd_AsphShn','exterior2nd_Brk Cmn',\n",
    "                       'exterior2nd_BrkFace','exterior2nd_CBlock','exterior2nd_CmentBd','exterior2nd_HdBoard',\n",
    "                       'exterior2nd_ImStucc','exterior2nd_MetalSd','exterior2nd_Plywood','exterior2nd_PreCast',\n",
    "                       'exterior2nd_Stone','exterior2nd_Stucco','exterior2nd_Wd Sdng','exterior2nd_Wd Shng',\n",
    "                       'masvnrtype_BrkCmn','masvnrtype_BrkFace','masvnrtype_Missing','masvnrtype_Stone',\n",
    "                       'exterqual_Ex','exterqual_Fa','exterqual_Gd','extercond_Ex','extercond_Fa','extercond_Gd',\n",
    "                       'extercond_Po','foundation_BrkTil','foundation_PConc','foundation_Slab','foundation_Stone',\n",
    "                       'foundation_Wood','bsmtqual_Ex','bsmtqual_Fa','bsmtqual_Gd','bsmtqual_No Bsmt','bsmtqual_Po',\n",
    "                       'bsmtcond_Ex','bsmtcond_Fa','bsmtcond_Gd','bsmtcond_No Bsmt','bsmtcond_Po','bsmtexposure_Av',\n",
    "                       'bsmtexposure_Gd','bsmtexposure_Mn','bsmtexposure_No Bsmt','bsmtfintype1_ALQ','bsmtfintype1_BLQ',\n",
    "                       'bsmtfintype1_LwQ','bsmtfintype1_No Bsmt','bsmtfintype1_Rec','bsmtfintype1_Unf',\n",
    "                       'bsmtfintype2_ALQ','bsmtfintype2_BLQ','bsmtfintype2_GLQ','bsmtfintype2_LwQ',\n",
    "                       'bsmtfintype2_No Bsmt','bsmtfintype2_Rec','heating_Floor','heating_GasW','heating_Grav',\n",
    "                       'heating_OthW','heating_Wall','heatingqc_Fa','heatingqc_Gd','heatingqc_Po','heatingqc_TA',\n",
    "                       'centralair_N','electrical_FuseA','electrical_FuseF','electrical_FuseP','kitchenqual_Ex',\n",
    "                       'kitchenqual_Fa','kitchenqual_Gd','kitchenqual_Po','functional_Maj1','functional_Maj2',\n",
    "                       'functional_Min1','functional_Min2','functional_Mod','functional_Sal','fireplacequ_Ex',\n",
    "                       'fireplacequ_Fa','fireplacequ_Gd','fireplacequ_Po','fireplacequ_TA','garagetype_2Types',\n",
    "                       'garagetype_Basment','garagetype_BuiltIn','garagetype_CarPort','garagetype_Detchd',\n",
    "                       'garagetype_No Garage','garagefinish_Fin','garagefinish_No Garage','garagefinish_RFn',\n",
    "                       'garagequal_Ex','garagequal_Fa','garagequal_Gd','garagequal_No Garage','garagequal_Po',\n",
    "                       'garagecond_Ex','garagecond_Fa','garagecond_Gd','garagecond_No Garage','garagecond_Po',\n",
    "                       'paveddrive_N','paveddrive_P','poolqc_Ex','poolqc_Fa','poolqc_Gd','poolqc_TA','fence_GdPrv',\n",
    "                       'fence_GdWo','fence_MnPrv','fence_MnWw','miscfeature_Gar2','miscfeature_Othr',\n",
    "                       'miscfeature_Shed','miscfeature_TenC','saletype_COD','saletype_CWD','saletype_Con',\n",
    "                       'saletype_ConLD','saletype_ConLI','saletype_ConLw','saletype_New','saletype_Oth',\n",
    "                       'saletype_VWD','salecondition_Abnorml','salecondition_AdjLand','salecondition_Alloca',\n",
    "                       'salecondition_Family','salecondition_Partial']]"
   ]
  },
  {
   "cell_type": "markdown",
   "metadata": {},
   "source": [
    "## Initial Feature Selection \n"
   ]
  },
  {
   "cell_type": "code",
   "execution_count": null,
   "metadata": {},
   "outputs": [],
   "source": [
    "from sklearn.linear_model import Lasso\n",
    "lasso = Lasso()"
   ]
  },
  {
   "cell_type": "code",
   "execution_count": null,
   "metadata": {},
   "outputs": [],
   "source": [
    "coefs = []\n",
    "intercepts = []\n",
    "coefs_dict = {}\n",
    "\n",
    "alphaRange = np.linspace(1e-3,0.2,20)\n",
    "for alpha in alphaRange:\n",
    "          lasso.set_params(alpha=alpha)  \n",
    "          lasso.fit(num_features, target)\n",
    "          intercepts.append(lasso.intercept_)\n",
    "          coefs.append(lasso.coef_)\n",
    "          coefs_dict[alpha] = lasso.coef_"
   ]
  },
  {
   "cell_type": "code",
   "execution_count": null,
   "metadata": {},
   "outputs": [],
   "source": [
    "for i in range(20):\n",
    "    alpha = alphaRange[i]\n",
    "    coef_alpha = coefs_dict[alpha]\n",
    "    print(i, round(alpha,2), len(coef_alpha[coef_alpha!=0]))"
   ]
  },
  {
   "cell_type": "code",
   "execution_count": null,
   "metadata": {},
   "outputs": [],
   "source": [
    "coef_alpha1 = pd.DataFrame({'feature':full_features.columns, 'coef':coefs_dict[alphaRange[1]]})\n",
    "picked_feature = coef_alpha1.loc[coef_alpha1.coef != 0,'feature'].tolist()\n",
    "picked_feature"
   ]
  },
  {
   "cell_type": "markdown",
   "metadata": {},
   "source": [
    "When lambda = 0.03, 36 out of the total 288 features will be kept non-zero by the lasso model. We will look into these features first for more insights."
   ]
  },
  {
   "cell_type": "markdown",
   "metadata": {},
   "source": [
    "## Data Analysis for the 36 picked features"
   ]
  },
  {
   "cell_type": "code",
   "execution_count": null,
   "metadata": {},
   "outputs": [],
   "source": [
    "picked36= full_features[picked_feature]\n",
    "picked36.head()"
   ]
  },
  {
   "cell_type": "code",
   "execution_count": null,
   "metadata": {},
   "outputs": [],
   "source": [
    "#Check the correlation between all numeric varibales\n",
    "corr = picked36.iloc[:,:23].corr()\n",
    "corr.style.background_gradient(cmap='coolwarm').set_precision(2)"
   ]
  },
  {
   "cell_type": "markdown",
   "metadata": {},
   "source": [
    "- It seems 'grlivarea','overallqual','yearbuilt', 'masvnrarea', 'totalbsmtsf', 'garagecars','garagearea', 'house_age', 'reno_age', and 'tbath_abvgr' are correlated with many other features.\n",
    "- 'garagecars' and 'garagearea' are highl correlated\n",
    "- 'house_age' is correlated with 'yearbuilt', 'bsmtfullbath' is highly correlated with 'tbath_bsmt', as we bring in one of the feature based on another."
   ]
  },
  {
   "cell_type": "code",
   "execution_count": null,
   "metadata": {},
   "outputs": [],
   "source": []
  },
  {
   "cell_type": "code",
   "execution_count": null,
   "metadata": {},
   "outputs": [],
   "source": []
  },
  {
   "cell_type": "code",
   "execution_count": null,
   "metadata": {},
   "outputs": [],
   "source": []
  },
  {
   "cell_type": "code",
   "execution_count": null,
   "metadata": {},
   "outputs": [],

   "source": []
  }
 ],
 "metadata": {
  "kernelspec": {
   "display_name": "Python 3",
   "language": "python",
   "name": "python3"
  },
  "language_info": {
   "codemirror_mode": {
    "name": "ipython",
    "version": 3
   },
   "file_extension": ".py",
   "mimetype": "text/x-python",
   "name": "python",
   "nbconvert_exporter": "python",
   "pygments_lexer": "ipython3",

   "version": "3.8.3"

  }
 },
 "nbformat": 4,
 "nbformat_minor": 4
}
